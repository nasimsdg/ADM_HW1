{
 "cells": [
  {
   "cell_type": "markdown",
   "id": "be7eeef7",
   "metadata": {},
   "source": [
    "#### Say \"Hello, World!\" With Python"
   ]
  },
  {
   "cell_type": "code",
   "execution_count": null,
   "id": "75d255ae",
   "metadata": {},
   "outputs": [],
   "source": [
    "print(\"Hello, World!\")\n"
   ]
  },
  {
   "cell_type": "markdown",
   "id": "46dabfef",
   "metadata": {},
   "source": [
    "#### Python If-Else"
   ]
  },
  {
   "cell_type": "code",
   "execution_count": null,
   "id": "a7bc52f3",
   "metadata": {},
   "outputs": [],
   "source": [
    "#!/bin/python3\n",
    "\n",
    "import math\n",
    "import os\n",
    "import random\n",
    "import re\n",
    "import sys\n",
    "\n",
    "\n",
    "\n",
    "if __name__ == '__main__':\n",
    "    n = int(input().strip())\n",
    "    if (n % 2 != 0) or (n%2 == 0 and n <= 20 and n >= 6) :\n",
    "        print(\"Weird\")\n",
    "    elif (n % 2 == 0 and n >= 2 and n<=5) or (n % 2 == 0 and n >=20):\n",
    "        print(\"Not Weird\")\n"
   ]
  },
  {
   "cell_type": "markdown",
   "id": "2482b8b2",
   "metadata": {},
   "source": [
    "#### Python If-Else"
   ]
  },
  {
   "cell_type": "code",
   "execution_count": null,
   "id": "17c5dc4b",
   "metadata": {},
   "outputs": [],
   "source": [
    "#!/bin/python3\n",
    "\n",
    "import math\n",
    "import os\n",
    "import random\n",
    "import re\n",
    "import sys\n",
    "\n",
    "\n",
    "\n",
    "if __name__ == '__main__':\n",
    "    n = int(input().strip())\n",
    "    if (n % 2 != 0) or (n%2 == 0 and n <= 20 and n >= 6) :\n",
    "        print(\"Weird\")\n",
    "    elif (n % 2 == 0 and n >= 2 and n<=5) or (n % 2 == 0 and n >=20):\n",
    "        print(\"Not Weird\")\n"
   ]
  },
  {
   "cell_type": "markdown",
   "id": "e3b704ec",
   "metadata": {},
   "source": [
    "#### Arithmetic Operators"
   ]
  },
  {
   "cell_type": "code",
   "execution_count": null,
   "id": "e7432c7d",
   "metadata": {},
   "outputs": [],
   "source": [
    "if __name__ == '__main__':\n",
    "    a = int(input())\n",
    "    b = int(input())\n",
    "    \n",
    "    print(a + b)\n",
    "    print(a - b)\n",
    "    print(a*b)\n",
    "    \n"
   ]
  },
  {
   "cell_type": "markdown",
   "id": "e35c8e8e",
   "metadata": {},
   "source": [
    "#### Loops"
   ]
  },
  {
   "cell_type": "code",
   "execution_count": null,
   "id": "e80c7463",
   "metadata": {},
   "outputs": [],
   "source": [
    "if __name__ == '__main__':\n",
    "    n = int(input())\n",
    "    lst = range(0,n)\n",
    "    \n",
    "    for i in range(len(lst)):\n",
    "        print(i**2)\n"
   ]
  },
  {
   "cell_type": "markdown",
   "id": "8a9d8a5a",
   "metadata": {},
   "source": [
    "#### Python: Division"
   ]
  },
  {
   "cell_type": "code",
   "execution_count": null,
   "id": "53d38216",
   "metadata": {},
   "outputs": [],
   "source": [
    "if __name__ == '__main__':\n",
    "    a = int(input())\n",
    "    b = int(input())\n",
    "    print(a//b)\n",
    "    print(a/b)\n"
   ]
  },
  {
   "cell_type": "markdown",
   "id": "0f9aaec5",
   "metadata": {},
   "source": [
    "#### Print Function"
   ]
  },
  {
   "cell_type": "code",
   "execution_count": null,
   "id": "55a7bc53",
   "metadata": {},
   "outputs": [],
   "source": [
    "if __name__ == '__main__':\n",
    "    n = int(input())\n",
    "    for i in range(1, n + 1):\n",
    "        print(i, end = '')\n"
   ]
  },
  {
   "cell_type": "markdown",
   "id": "de546436",
   "metadata": {},
   "source": [
    "#### Write a function"
   ]
  },
  {
   "cell_type": "code",
   "execution_count": null,
   "id": "185d3384",
   "metadata": {},
   "outputs": [],
   "source": [
    "def is_leap(year):\n",
    "    leap = False\n",
    "    \n",
    "    # Write your logic here\n",
    "    if (year % 4 == 0 and year % 100 != 0) or year % 400 == 0:\n",
    "        return True\n",
    "    else:\n",
    "        return False\n",
    "                \n",
    "    \n",
    "    return leap\n",
    "\n"
   ]
  },
  {
   "cell_type": "markdown",
   "id": "686d0000",
   "metadata": {},
   "source": [
    "#### Find the Runner-Up Score!  "
   ]
  },
  {
   "cell_type": "code",
   "execution_count": null,
   "id": "4777c89d",
   "metadata": {},
   "outputs": [],
   "source": [
    "if __name__ == '__main__':\n",
    "    n = int(input())\n",
    "    arr = map(int, input().split())\n",
    "    arr_list = sorted(list(dict.fromkeys(list(arr))))\n",
    "    print(arr_list[-2])   \n",
    "    \n",
    "    \n",
    "    #for i in range(n):\n",
    "        \n",
    "        \n"
   ]
  },
  {
   "cell_type": "markdown",
   "id": "c9753c72",
   "metadata": {},
   "source": [
    "#### Finding the percentage"
   ]
  },
  {
   "cell_type": "code",
   "execution_count": null,
   "id": "34ad0b6e",
   "metadata": {},
   "outputs": [],
   "source": [
    "if __name__ == '__main__':\n",
    "    n = int(input())\n",
    "    student_marks = {}\n",
    "    for _ in range(n):\n",
    "        name, *line = input().split()\n",
    "        scores = list(map(float, line))\n",
    "        student_marks[name] = scores\n",
    "    query_name = input()\n",
    "    \n",
    "    for k in student_marks.keys():\n",
    "        if k == query_name:\n",
    "            print(\"{:.2f}\".format(sum(student_marks[k])/len(scores)))\n",
    "            \n",
    "        \n"
   ]
  },
  {
   "cell_type": "markdown",
   "id": "b20b14a6",
   "metadata": {},
   "source": [
    "#### sWAP cASE"
   ]
  },
  {
   "cell_type": "code",
   "execution_count": null,
   "id": "824a1281",
   "metadata": {},
   "outputs": [],
   "source": [
    "def swap_case(s):\n",
    "    lst = list(s)\n",
    "    st = str()\n",
    "    for i in range(len(lst)):\n",
    "        if lst[i].islower() == True:\n",
    "            st = st + lst[i].upper()\n",
    "        else:\n",
    "            st = st + lst[i].lower()\n",
    "    return st\n",
    "\n"
   ]
  },
  {
   "cell_type": "markdown",
   "id": "b0cf15a4",
   "metadata": {},
   "source": [
    "#### String Split and Join"
   ]
  },
  {
   "cell_type": "code",
   "execution_count": null,
   "id": "1854c375",
   "metadata": {},
   "outputs": [],
   "source": [
    "def split_and_join(line):\n",
    "    # write your code here\n",
    "    line = line.split(' ')\n",
    "    line = '-'.join(line)\n",
    "    return line\n",
    "    \n",
    "\n"
   ]
  },
  {
   "cell_type": "markdown",
   "id": "4c74e7fa",
   "metadata": {},
   "source": [
    "#### What's Your Name?"
   ]
  },
  {
   "cell_type": "code",
   "execution_count": null,
   "id": "7787759c",
   "metadata": {},
   "outputs": [],
   "source": [
    "#\n",
    "# Complete the 'print_full_name' function below.\n",
    "#\n",
    "# The function is expected to return a STRING.\n",
    "# The function accepts following parameters:\n",
    "#  1. STRING first\n",
    "#  2. STRING last\n",
    "#\n",
    "\n",
    "def print_full_name(first, last):\n",
    "    # Write your code here\n",
    "    first = first.split()\n",
    "    last = last.split()\n",
    "    print('Hello '+ first[0] + ' ' + last[0] +'! You just delved into python.')\n",
    "\n"
   ]
  },
  {
   "cell_type": "markdown",
   "id": "0ca88594",
   "metadata": {},
   "source": [
    "#### Calendar Module"
   ]
  },
  {
   "cell_type": "code",
   "execution_count": null,
   "id": "b213d8f9",
   "metadata": {},
   "outputs": [],
   "source": [
    "# Enter your code here. Read input from STDIN. Print output to STDOUT\n",
    "import calendar\n",
    "\n",
    "mm, dd, yyyy = map(int,input().split())\n",
    "print(calendar.day_name[calendar.weekday(yyyy, mm, dd)].upper())\n"
   ]
  },
  {
   "cell_type": "markdown",
   "id": "626a8ee6",
   "metadata": {},
   "source": [
    "#### Calendar Module"
   ]
  },
  {
   "cell_type": "code",
   "execution_count": null,
   "id": "ab2f98ba",
   "metadata": {},
   "outputs": [],
   "source": [
    "# Enter your code here. Read input from STDIN. Print output to STDOUT\n",
    "import calendar\n",
    "\n",
    "mm, dd, yyyy = map(int,input().split())\n",
    "print(calendar.day_name[calendar.weekday(yyyy, mm, dd)].upper())\n"
   ]
  },
  {
   "cell_type": "markdown",
   "id": "58019bb0",
   "metadata": {},
   "source": [
    "#### Mutations"
   ]
  },
  {
   "cell_type": "code",
   "execution_count": null,
   "id": "59435255",
   "metadata": {},
   "outputs": [],
   "source": [
    "def mutate_string(string, position, character):\n",
    "    lst = list(string)\n",
    "    lst[position] = character \n",
    "    return ''.join(lst)\n",
    "    \n",
    "\n"
   ]
  },
  {
   "cell_type": "markdown",
   "id": "c84acc33",
   "metadata": {},
   "source": [
    "#### String Validators"
   ]
  },
  {
   "cell_type": "code",
   "execution_count": null,
   "id": "772c1a22",
   "metadata": {},
   "outputs": [],
   "source": [
    "if __name__ == '__main__':\n",
    "    \n",
    "    s = input()\n",
    "    lst = [False, False, False, False, False]\n",
    "    \n",
    "    for i in s:\n",
    "        if i.isalnum():\n",
    "            lst[0] = True\n",
    "            break\n",
    "    for i in s:    \n",
    "        if i.isalpha():\n",
    "            lst[1] = True\n",
    "            #print(True)\n",
    "            break\n",
    "    for i in s:    \n",
    "        if i.isdigit():\n",
    "            lst[2] = True\n",
    "            #print(True)\n",
    "            break \n",
    "    for i in s:\n",
    "        if i.islower():\n",
    "            lst[3] = True\n",
    "            #print(True)\n",
    "            break\n",
    "    for i in s:\n",
    "        if i.isupper():\n",
    "            lst[4] = True\n",
    "            #print(True)\n",
    "            break\n",
    "    for i in lst:\n",
    "        print(i)\n",
    " \n",
    "            \n",
    "     \n"
   ]
  },
  {
   "cell_type": "markdown",
   "id": "af7c26cf",
   "metadata": {},
   "source": [
    "#### Text Alignment"
   ]
  },
  {
   "cell_type": "code",
   "execution_count": null,
   "id": "fed7593d",
   "metadata": {},
   "outputs": [],
   "source": [
    "#Replace all ______ with rjust, ljust or center. \n",
    "\n",
    "thickness = int(input()) #This must be an odd number\n",
    "c = 'H'\n",
    "\n",
    "#Top Cone\n",
    "for i in range(thickness):\n",
    "    print((c*i).rjust(thickness-1)+c+(c*i).ljust(thickness-1))\n",
    "\n",
    "#Top Pillars\n",
    "for i in range(thickness+1):\n",
    "    print((c*thickness).center(thickness*2)+(c*thickness).center(thickness*6))\n",
    "    \n",
    "#Middle Belt\n",
    "for i in range((thickness+1)//2):\n",
    "    print((c*thickness*5).center(thickness*6))\n",
    "    \n",
    "#Bottom Pillars\n",
    "for i in range(thickness+1):\n",
    "    print((c*thickness).center(thickness*2)+(c*thickness).center(thickness*6))    \n",
    "\n",
    "#Bottom Cone\n",
    "for i in range(thickness):\n",
    "    print(((c*(thickness-i-1)).rjust(thickness)+c+(c*(thickness-i-1)).ljust(thickness)).rjust(thickness*6))\n",
    "    \n",
    "    \n",
    "\n",
    "\n",
    "\n",
    "\n"
   ]
  },
  {
   "cell_type": "markdown",
   "id": "b9ea00fb",
   "metadata": {},
   "source": [
    "#### Text Wrap"
   ]
  },
  {
   "cell_type": "code",
   "execution_count": null,
   "id": "b5ec590f",
   "metadata": {},
   "outputs": [],
   "source": [
    "\n",
    "\n",
    "def wrap(string, max_width):\n",
    "    return textwrap.fill(string, max_width)\n",
    "\n",
    "\n"
   ]
  },
  {
   "cell_type": "markdown",
   "id": "e5f2b01c",
   "metadata": {},
   "source": [
    "#### Arrays"
   ]
  },
  {
   "cell_type": "code",
   "execution_count": null,
   "id": "0470f564",
   "metadata": {},
   "outputs": [],
   "source": [
    "\n",
    "\n",
    "def arrays(arr):\n",
    "    # complete this function\n",
    "    # use numpy.array\n",
    "    arr = numpy.array(list(reversed(arr)), float)\n",
    "    return arr\n",
    "\n"
   ]
  },
  {
   "cell_type": "markdown",
   "id": "b4ca41d3",
   "metadata": {},
   "source": [
    "#### Shape and Reshape"
   ]
  },
  {
   "cell_type": "code",
   "execution_count": null,
   "id": "30ebfc0e",
   "metadata": {},
   "outputs": [],
   "source": [
    "import numpy\n",
    "\n",
    "arr = numpy.array(input().split(), int)\n",
    "arr.shape = (3,3)\n",
    "print(arr)\n",
    "\n"
   ]
  },
  {
   "cell_type": "markdown",
   "id": "32843feb",
   "metadata": {},
   "source": [
    "#### Zeros and Ones"
   ]
  },
  {
   "cell_type": "code",
   "execution_count": null,
   "id": "18e7a546",
   "metadata": {},
   "outputs": [],
   "source": [
    "import numpy\n",
    "\n",
    "dim = list(map(int , input().split()))\n",
    "print(numpy.zeros((dim), dtype = int))\n",
    "print(numpy.ones((dim), dtype = int))\n"
   ]
  },
  {
   "cell_type": "markdown",
   "id": "63016c93",
   "metadata": {},
   "source": [
    "#### Eye and Identity"
   ]
  },
  {
   "cell_type": "code",
   "execution_count": null,
   "id": "dc89afc9",
   "metadata": {},
   "outputs": [],
   "source": [
    "import numpy\n",
    "numpy.set_printoptions(legacy = '1.13')\n",
    "\n",
    "n, m = map(int,  input().split())\n",
    "if n == m :\n",
    "    print(numpy.identity(n))\n",
    "else:\n",
    "    print(numpy.eye(n, m))\n",
    "\n",
    "\n"
   ]
  },
  {
   "cell_type": "markdown",
   "id": "15564216",
   "metadata": {},
   "source": [
    "#### Transpose and Flatten"
   ]
  },
  {
   "cell_type": "code",
   "execution_count": null,
   "id": "ce85c6c9",
   "metadata": {},
   "outputs": [],
   "source": [
    "import numpy\n",
    "\n",
    "n,m = map(int, input().split())\n",
    "lst = []\n",
    "for _ in range(n):\n",
    "    lst.append(list(map(int, input().split())))\n",
    "arr = numpy.array(lst)\n",
    "print (numpy.transpose(arr))\n",
    "print(arr.flatten())\n"
   ]
  },
  {
   "cell_type": "markdown",
   "id": "cc937650",
   "metadata": {},
   "source": [
    "#### Nested Lists"
   ]
  },
  {
   "cell_type": "code",
   "execution_count": null,
   "id": "37dd1aa8",
   "metadata": {},
   "outputs": [],
   "source": [
    "if __name__ == '__main__':\n",
    "    info = list()\n",
    "    grade = list()\n",
    "    grade_wmin = list()\n",
    "    info_dict = dict()\n",
    "    \n",
    "    for _ in range(int(input())):\n",
    "        name = input()\n",
    "        score = float(input())\n",
    "        info.append([name,score])\n",
    "        grade.append(score)\n",
    "        \n",
    "    minimum_grade = min(grade)\n",
    "    for i in grade:\n",
    "        if i != minimum_grade:\n",
    "           grade_wmin.append(i)\n",
    "            \n",
    "    info_dict = dict(info)\n",
    "    grade_wmin = sorted(grade_wmin)\n",
    "    \n",
    "    for k,v in sorted(info_dict.items()):\n",
    "        if v == grade_wmin[0]:\n",
    "            print(k)\n",
    "\n",
    "    \n",
    "    \n",
    " \n"
   ]
  }
 ],
 "metadata": {},
 "nbformat": 4,
 "nbformat_minor": 5
}
